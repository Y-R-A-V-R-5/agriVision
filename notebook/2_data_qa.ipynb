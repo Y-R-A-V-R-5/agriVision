{
 "cells": [
  {
   "cell_type": "code",
   "execution_count": null,
   "id": "67a2ab75-6a8e-47ef-a78f-180df8be5c13",
   "metadata": {},
   "outputs": [],
   "source": []
  },
  {
   "cell_type": "markdown",
   "id": "e783599f-8a3f-43b7-b01b-89db0762123d",
   "metadata": {},
   "source": [
    "---\n",
    "## ⚙️ 1. Setup and Configuration\n",
    "\n",
    "Import all required libraries, suppress warnings, and set up utility paths."
   ]
  },
  {
   "cell_type": "code",
   "execution_count": 2,
   "id": "100819fa-ca14-4d47-a51e-f825d207b0f9",
   "metadata": {},
   "outputs": [],
   "source": [
    "# Ignore all warnings\n",
    "import warnings\n",
    "warnings.filterwarnings(\"ignore\")\n",
    "\n",
    "# === Standard Library Imports ===\n",
    "import os\n",
    "import sys\n",
    "from pathlib import Path\n",
    "from collections import defaultdict, Counter\n",
    "\n",
    "# === Third-Party Library Imports ===\n",
    "import pandas as pd\n",
    "import matplotlib.pyplot as plt\n",
    "import cv2\n",
    "from IPython.display import JSON"
   ]
  },
  {
   "cell_type": "markdown",
   "id": "b2d1be52-47ef-42e8-a80d-edb52057ca04",
   "metadata": {},
   "source": [
    "### 🔧 Add utility folder and import custom modules"
   ]
  },
  {
   "cell_type": "code",
   "execution_count": 4,
   "id": "2a06dd8d-8bfc-4eac-9f45-a689a611a8a1",
   "metadata": {},
   "outputs": [],
   "source": [
    "# Add utils/ to path\n",
    "project_root = Path.cwd().parent\n",
    "utils_path = project_root / 'utils'\n",
    "if str(utils_path) not in sys.path:\n",
    "    sys.path.append(str(utils_path))\n",
    "\n",
    "# Modular imports\n",
    "import data_loader as dl\n",
    "import qa"
   ]
  },
  {
   "cell_type": "markdown",
   "id": "9d11032e-f285-4242-aac4-f80a02e4acb9",
   "metadata": {},
   "source": [
    "---\n",
    "\n",
    "## 📁 2. Define Dataset and Output Paths\n",
    "\n",
    "Set up paths to images, labels, config, and output directories."
   ]
  },
  {
   "cell_type": "code",
   "execution_count": 6,
   "id": "8a226e5c-d13b-41f6-a023-73f69dade02a",
   "metadata": {},
   "outputs": [],
   "source": [
    "# === Project paths ===\n",
    "project_root = Path.cwd().parent\n",
    "config_dir = project_root / 'config'\n",
    "\n",
    "# Define paths to dataset\n",
    "IMAGE_DIR = Path.cwd().parent / \"dataset\" / \"MPP\" / \"images\"\n",
    "LABEL_DIR = Path.cwd().parent / \"dataset\" / \"MPP\" / \"labels\"\n",
    "data_yaml = Path.cwd().parent /  \"config\" / \"MPP\" / \"data.yaml\""
   ]
  },
  {
   "cell_type": "code",
   "execution_count": 7,
   "id": "ce22b70c-136e-4c9b-8cbb-b08ee98cb44a",
   "metadata": {},
   "outputs": [],
   "source": [
    "# === Output dirs ===\n",
    "SAVE_VIS_DIR = Path.cwd().parent / \"visuals\" / \"2_data_qa\"\n",
    "SAVE_FLE_DIR = Path.cwd().parent / \"reports\" / \"2_data_qa\"\n",
    "\n",
    "SAVE_VIS_DIR.mkdir(parents=True, exist_ok=True)\n",
    "SAVE_FLE_DIR.mkdir(parents=True, exist_ok=True)"
   ]
  },
  {
   "cell_type": "markdown",
   "id": "3a715f7a-3f38-484c-a868-435d24f097a0",
   "metadata": {},
   "source": [
    "### ✅ Path Checks"
   ]
  },
  {
   "cell_type": "code",
   "execution_count": 9,
   "id": "8cc64435-3e85-4793-a722-588586e25f95",
   "metadata": {},
   "outputs": [
    {
     "name": "stdout",
     "output_type": "stream",
     "text": [
      "\n",
      "🔎 Verifying directory and file paths...\n",
      "\n",
      "Image directory      : ✅ Exists — C:\\Users\\ADITHYA\\OneDrive\\Desktop\\AgriVision\\dataset\\MPP\\images\n",
      "Label directory      : ✅ Exists — C:\\Users\\ADITHYA\\OneDrive\\Desktop\\AgriVision\\dataset\\MPP\\labels\n",
      "Config file          : ✅ Exists — C:\\Users\\ADITHYA\\OneDrive\\Desktop\\AgriVision\\config\\MPP\\data.yaml\n",
      "Utils path           : ✅ Exists — C:\\Users\\ADITHYA\\OneDrive\\Desktop\\AgriVision\\utils\n",
      "Save visuals dir     : ✅ Exists — C:\\Users\\ADITHYA\\OneDrive\\Desktop\\AgriVision\\visuals\\2_data_qa\n",
      "Save reports dir     : ✅ Exists — C:\\Users\\ADITHYA\\OneDrive\\Desktop\\AgriVision\\reports\\2_data_qa\n"
     ]
    }
   ],
   "source": [
    "# === Path Existence Checks ===\n",
    "paths_to_check = {\n",
    "    \"Image directory\": IMAGE_DIR,\n",
    "    \"Label directory\": LABEL_DIR,\n",
    "    \"Config file\": data_yaml,\n",
    "    \"Utils path\": utils_path,\n",
    "    \"Save visuals dir\": SAVE_VIS_DIR,\n",
    "    \"Save reports dir\": SAVE_FLE_DIR,\n",
    "}\n",
    "\n",
    "print(\"\\n🔎 Verifying directory and file paths...\\n\")\n",
    "for name, path in paths_to_check.items():\n",
    "    exists = path.exists()\n",
    "    print(f\"{name:<20} : {'✅ Exists' if exists else '❌ Missing'} — {path}\")"
   ]
  },
  {
   "cell_type": "markdown",
   "id": "f532918e-7649-441c-8e75-019125038c5c",
   "metadata": {},
   "source": [
    "---\n",
    "\n",
    "## 📥 3. Load Dataset and Extract Metadata\n",
    "\n",
    "Load image and label paths, then extract label data and metadata from dataset."
   ]
  },
  {
   "cell_type": "code",
   "execution_count": 11,
   "id": "9a7883b1-a002-45fa-9b24-f09a04bb7390",
   "metadata": {},
   "outputs": [
    {
     "name": "stdout",
     "output_type": "stream",
     "text": [
      "Found 36305 files for pattern *.jpg\n",
      "📸 Found 36305 image(s) in C:\\Users\\ADITHYA\\OneDrive\\Desktop\\AgriVision\\dataset\\MPP\\images\n"
     ]
    },
    {
     "name": "stderr",
     "output_type": "stream",
     "text": [
      "Generating label paths: 100%|██████████| 36305/36305 [00:04<00:00, 8369.72it/s] "
     ]
    },
    {
     "name": "stdout",
     "output_type": "stream",
     "text": [
      "Generated 36305 label paths from 36305 images\n",
      "🏷️ Matched 36305 label(s) from image filenames in C:\\Users\\ADITHYA\\OneDrive\\Desktop\\AgriVision\\dataset\\MPP\\labels\n"
     ]
    },
    {
     "name": "stderr",
     "output_type": "stream",
     "text": [
      "\n"
     ]
    }
   ],
   "source": [
    "# === Load image paths ===\n",
    "image_paths = dl.get_image_paths(IMAGE_DIR)\n",
    "print(f\"📸 Found {len(image_paths)} image(s) in {IMAGE_DIR}\")\n",
    "\n",
    "# === Load label paths ===\n",
    "label_paths = dl.get_label_paths(image_paths, LABEL_DIR)\n",
    "print(f\"🏷️ Matched {len(label_paths)} label(s) from image filenames in {LABEL_DIR}\")"
   ]
  },
  {
   "cell_type": "code",
   "execution_count": 12,
   "id": "2cdb8598-7063-4404-98ad-9584b246112b",
   "metadata": {},
   "outputs": [
    {
     "name": "stdout",
     "output_type": "stream",
     "text": [
      "Loaded YAML config from C:\\Users\\ADITHYA\\OneDrive\\Desktop\\AgriVision\\config\\MPP\\data.yaml: keys=['train', 'val', 'test', 'nc', 'names', 'roboflow']\n",
      "Found 36305 files for pattern *.jpg\n"
     ]
    },
    {
     "name": "stderr",
     "output_type": "stream",
     "text": [
      "Generating label paths: 100%|██████████| 36305/36305 [00:00<00:00, 37191.35it/s]\n"
     ]
    },
    {
     "name": "stdout",
     "output_type": "stream",
     "text": [
      "Generated 36305 label paths from 36305 images\n"
     ]
    },
    {
     "name": "stderr",
     "output_type": "stream",
     "text": [
      "Loading label files: 100%|██████████| 36305/36305 [05:21<00:00, 112.82it/s]\n"
     ]
    },
    {
     "name": "stdout",
     "output_type": "stream",
     "text": [
      "Loaded labels from 36305/36305 files.\n"
     ]
    }
   ],
   "source": [
    "dataset = dl.YoloDataset(images_dir=IMAGE_DIR,\n",
    "                         labels_dir=LABEL_DIR,\n",
    "                         yaml_path=data_yaml)"
   ]
  },
  {
   "cell_type": "code",
   "execution_count": 13,
   "id": "80921034-1664-45c7-8369-1b99f3f4c622",
   "metadata": {},
   "outputs": [],
   "source": [
    "# Access key components\n",
    "image_paths = dataset.image_paths\n",
    "label_paths = dataset.label_paths\n",
    "all_labels = dataset.all_labels\n",
    "class_names = dataset.class_names\n",
    "num_classes = dataset.num_classes"
   ]
  },
  {
   "cell_type": "code",
   "execution_count": 14,
   "id": "ce71c453-c99f-4a71-8e4a-8be352dd03b7",
   "metadata": {
    "scrolled": true
   },
   "outputs": [
    {
     "name": "stdout",
     "output_type": "stream",
     "text": [
      "==============================\n",
      "📊 DATASET DIAGNOSTICS\n",
      "==============================\n",
      "\n",
      "🔹 Image Paths\n",
      "Type         : <class 'list'>\n",
      "Count        : 36305\n",
      "Sample Paths : ['C:\\\\Users\\\\ADITHYA\\\\OneDrive\\\\Desktop\\\\AgriVision\\\\dataset\\\\MPP\\\\images\\\\00001_Cassava_mosaic_jpg.rf.676253e0c2beef9c5e113197f2f78d0b.jpg']\n",
      "\n",
      "🔹 Label Paths\n",
      "Type         : <class 'list'>\n",
      "Count        : 36305\n",
      "Sample Paths : ['C:\\\\Users\\\\ADITHYA\\\\OneDrive\\\\Desktop\\\\AgriVision\\\\dataset\\\\MPP\\\\labels\\\\00001_Cassava_mosaic_jpg.rf.676253e0c2beef9c5e113197f2f78d0b.txt']\n",
      "\n",
      "🔹 All Labels\n",
      "Type               : <class 'list'>\n",
      "Count (images)     : 36305\n",
      "First item type    : <class 'list'>\n",
      "First label sample : [[9, 0.5, 0.5, 1.0, 1.0]]\n",
      "\n",
      "🔹 Class Names\n",
      "Type         : <class 'list'>\n",
      "Count        : 22\n",
      "Classes      : ['Cashew anthracnose', 'Cashew gumosis', 'Cashew healthy', 'Cashew leaf miner', 'Cashew red rust', 'Cassava bacterial blight', 'Cassava brown spot', 'Cassava green mite', 'Cassava healthy', 'Cassava mosaic', 'Maize fall armyworm', 'Maize grasshoper', 'Maize healthy', 'Maize leaf beetle', 'Maize leaf blight', 'Maize leaf spot', 'Maize streak virus', 'Tomato healthy', 'Tomato leaf blight', 'Tomato leaf curl', 'Tomato septoria leaf spot', 'Tomato verticulium wilt']\n",
      "\n",
      "🔹 Number of Classes\n",
      "Value        : 22\n",
      "Matches class_names? : True\n"
     ]
    }
   ],
   "source": [
    "print(\"=\"*30)\n",
    "print(\"📊 DATASET DIAGNOSTICS\")\n",
    "print(\"=\"*30)\n",
    "\n",
    "# ---------------------------------------------\n",
    "# 🔹 IMAGE PATHS\n",
    "# ---------------------------------------------\n",
    "print(\"\\n🔹 Image Paths\")\n",
    "print(f\"Type         : {type(image_paths)}\")\n",
    "print(f\"Count        : {len(image_paths)}\")\n",
    "print(f\"Sample Paths : {image_paths[:1]}\")\n",
    "\n",
    "# ---------------------------------------------\n",
    "# 🔹 LABEL PATHS\n",
    "# ---------------------------------------------\n",
    "print(\"\\n🔹 Label Paths\")\n",
    "print(f\"Type         : {type(label_paths)}\")\n",
    "print(f\"Count        : {len(label_paths)}\")\n",
    "print(f\"Sample Paths : {label_paths[:1]}\")\n",
    "\n",
    "# ---------------------------------------------\n",
    "# 🔹 ALL LABELS\n",
    "# ---------------------------------------------\n",
    "print(\"\\n🔹 All Labels\")\n",
    "print(f\"Type               : {type(all_labels)}\")\n",
    "print(f\"Count (images)     : {len(all_labels)}\")\n",
    "print(f\"First item type    : {type(all_labels[0]) if all_labels else 'None'}\")\n",
    "\n",
    "if all_labels:\n",
    "    # If labels exist, show a few values from the first image's labels\n",
    "    if isinstance(all_labels[0], list):\n",
    "        print(f\"First label sample : {all_labels[0][:2]}\")\n",
    "    else:\n",
    "        print(\"First label sample : N/A (not a list)\")\n",
    "\n",
    "# ---------------------------------------------\n",
    "# 🔹 CLASS NAMES\n",
    "# ---------------------------------------------\n",
    "print(\"\\n🔹 Class Names\")\n",
    "print(f\"Type         : {type(class_names)}\")\n",
    "print(f\"Count        : {len(class_names)}\")\n",
    "print(f\"Classes      : {class_names}\")\n",
    "\n",
    "# ---------------------------------------------\n",
    "# 🔹 NUMBER OF CLASSES\n",
    "# ---------------------------------------------\n",
    "print(\"\\n🔹 Number of Classes\")\n",
    "print(f\"Value        : {num_classes}\")\n",
    "print(f\"Matches class_names? : {num_classes == len(class_names)}\")"
   ]
  },
  {
   "cell_type": "code",
   "execution_count": 15,
   "id": "5f8dcd70-b13c-4ab8-a3a9-c1c47156cbf7",
   "metadata": {},
   "outputs": [
    {
     "data": {
      "text/plain": [
       "['Cashew Anthracnose',\n",
       " 'Cashew Gumosis',\n",
       " 'Cashew Healthy',\n",
       " 'Cashew Leaf Miner',\n",
       " 'Cashew Red Rust',\n",
       " 'Cassava Bacterial Blight',\n",
       " 'Cassava Brown Spot',\n",
       " 'Cassava Green Mite',\n",
       " 'Cassava Healthy',\n",
       " 'Cassava Mosaic',\n",
       " 'Maize Fall Armyworm',\n",
       " 'Maize Grasshoper',\n",
       " 'Maize Healthy',\n",
       " 'Maize Leaf Beetle',\n",
       " 'Maize Leaf Blight',\n",
       " 'Maize Leaf Spot',\n",
       " 'Maize Streak Virus',\n",
       " 'Tomato Healthy',\n",
       " 'Tomato Leaf Blight',\n",
       " 'Tomato Leaf Curl',\n",
       " 'Tomato Septoria Leaf Spot',\n",
       " 'Tomato Verticulium Wilt']"
      ]
     },
     "execution_count": 15,
     "metadata": {},
     "output_type": "execute_result"
    }
   ],
   "source": [
    "# Capitalize each word in class names\n",
    "formatted_class_names = [name.title() for name in class_names]\n",
    "formatted_class_names"
   ]
  },
  {
   "cell_type": "code",
   "execution_count": 17,
   "id": "632f556a-99b7-48fc-8102-11baeb44d9f4",
   "metadata": {},
   "outputs": [
    {
     "name": "stderr",
     "output_type": "stream",
     "text": [
      "Exact duplicates: 100%|██████████| 36305/36305 [00:00<00:00, 657933.95it/s]\n"
     ]
    },
    {
     "data": {
      "text/plain": [
       "{'exact_duplicates': []}"
      ]
     },
     "execution_count": 17,
     "metadata": {},
     "output_type": "execute_result"
    }
   ],
   "source": [
    "qa.check_exact_duplicates(image_paths)"
   ]
  },
  {
   "cell_type": "code",
   "execution_count": null,
   "id": "398370a0-fb6e-45d8-898f-39027f655f90",
   "metadata": {},
   "outputs": [
    {
     "name": "stderr",
     "output_type": "stream",
     "text": [
      "Perceptual duplicates:  52%|█████▏    | 18742/36305 [1:38:18<2:16:59,  2.14it/s]"
     ]
    }
   ],
   "source": [
    "qa.check_perceptual_duplicates(image_paths)"
   ]
  },
  {
   "cell_type": "code",
   "execution_count": null,
   "id": "d9404ab3-d24c-4039-ae06-63c1cc5a2a13",
   "metadata": {},
   "outputs": [],
   "source": [
    "qa.check_corrupt_images(image_paths)"
   ]
  },
  {
   "cell_type": "code",
   "execution_count": null,
   "id": "5da357e8-3add-4d5a-a03d-ea8d6cca3743",
   "metadata": {},
   "outputs": [],
   "source": [
    "qa."
   ]
  },
  {
   "cell_type": "code",
   "execution_count": null,
   "id": "250b6b45-d940-4180-9b6d-0b8a79704830",
   "metadata": {},
   "outputs": [],
   "source": [
    "qa."
   ]
  },
  {
   "cell_type": "code",
   "execution_count": null,
   "id": "ed2cf194-62b8-48b2-9fc5-02ff5df7a851",
   "metadata": {},
   "outputs": [],
   "source": [
    "qa."
   ]
  },
  {
   "cell_type": "code",
   "execution_count": null,
   "id": "1ee549bb-d963-4739-abec-6c28480a4cea",
   "metadata": {},
   "outputs": [],
   "source": [
    "qa."
   ]
  }
 ],
 "metadata": {
  "kernelspec": {
   "display_name": "Python 3 (ipykernel)",
   "language": "python",
   "name": "python3"
  },
  "language_info": {
   "codemirror_mode": {
    "name": "ipython",
    "version": 3
   },
   "file_extension": ".py",
   "mimetype": "text/x-python",
   "name": "python",
   "nbconvert_exporter": "python",
   "pygments_lexer": "ipython3",
   "version": "3.12.4"
  }
 },
 "nbformat": 4,
 "nbformat_minor": 5
}
